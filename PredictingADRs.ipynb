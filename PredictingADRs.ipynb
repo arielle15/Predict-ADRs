{
 "cells": [
  {
   "cell_type": "markdown",
   "metadata": {},
   "source": [
    "For this project, I am trying to predict adverse drug reactions (ADRs) using features based on proteins the drugs interact with.  An ADR prediction model might be useful for drug developers to determine whether a new drug they developed is likely to cause certain side effects.  By examining the feature importances of the model, we may also be able to uncover new proteins or pathways that are associated with the ADRs, which could help in the early stages of drug development.\n",
    "\n",
    "In this notebook, I will gather and process the relevant data, fit a Random Forest Classifier model using this data, and evaluate the model for predicting a specific ADR, tremors.\n",
    "\n",
    "We will first import all the packages we need."
   ]
  },
  {
   "cell_type": "code",
   "execution_count": 27,
   "metadata": {
    "collapsed": true
   },
   "outputs": [],
   "source": [
    "import pandas as pd #Pandas helps transform our data into data frames\n",
    "import matplotlib.pyplot as plt #Needed for plotting\n",
    "import operator #Used in sorting lists\n",
    "import numpy as np #Numpy helps with processing arrays\n",
    "\n",
    "#The following packages from sci-kit learn will help with building our model and evaluating it:\n",
    "from sklearn.model_selection import train_test_split \n",
    "from sklearn import preprocessing\n",
    "from sklearn.ensemble import RandomForestClassifier\n",
    "from sklearn.pipeline import make_pipeline\n",
    "from sklearn.model_selection import GridSearchCV\n",
    "from sklearn.metrics import confusion_matrix\n",
    "from sklearn import metrics\n",
    "from sklearn.metrics import roc_curve, auc\n"
   ]
  },
  {
   "cell_type": "markdown",
   "metadata": {},
   "source": [
    "Let's start by examining the ADR data.  This data comes from SIDER, a database of drugs and their respective ADRs."
   ]
  },
  {
   "cell_type": "code",
   "execution_count": 28,
   "metadata": {
    "collapsed": false
   },
   "outputs": [],
   "source": [
    "#Directory with all relevant files\n",
    "currDir = 'C:/Users/Arielle/OneDrive/CompBioProjects/PredictADRs/InputFiles/'\n",
    "\n",
    "#File from SIDER with ADRs\n",
    "ADRfile = open(currDir + 'meddra_all_se.tsv', 'r')\n",
    "\n",
    "#File that contains conversion from Pubchem ID to Drugbank ID (taken from: https://raw.githubusercontent.com/dhimmel/drugbank/e8567eed2dd48ae0694a0960c518763a777845ff/data/mapping/pubchem.tsv)\n",
    "conversionFile = open(currDir + 'pubchem.tsv', 'r')\n"
   ]
  },
  {
   "cell_type": "markdown",
   "metadata": {},
   "source": [
    "We will make a dictionary that converts a drug's Pubchem ID to its corresponding Drugbank ID.  This is needed because the SIDER database lists drugs by a CID, which is easily converted to a Pubchem ID.  However, the features we will use will come from the Drugbank database, which uses Drugbank IDs. We eventually will store the ADR data using Drugbank IDs so that we can match up the ADR data and the drug feature data."
   ]
  },
  {
   "cell_type": "code",
   "execution_count": 29,
   "metadata": {
    "collapsed": false
   },
   "outputs": [],
   "source": [
    "#Dictionary with keys representing Pubchem IDs, and values representing the corresponding Drugbank IDs.\n",
    "PubchemToDB = {}\n",
    "\n",
    "for line in conversionFile:\n",
    "    line = line.rstrip()\n",
    "    cols = line.split('\\t')\n",
    "    db_id = cols[0]\n",
    "    pubchem_id = cols[1]\n",
    "    if pubchem_id not in PubchemToDB:\n",
    "        #Some Pubchem IDs may appear more than once, so we will just consider the first one that appears in the file\n",
    "        PubchemToDB[pubchem_id] = db_id\n",
    "        "
   ]
  },
  {
   "cell_type": "markdown",
   "metadata": {},
   "source": [
    "Now we will go through each drug listed from the SIDER database, and store their associated ADRs.  We will also record how many drugs have each ADR, which we will call the ADR frequency."
   ]
  },
  {
   "cell_type": "code",
   "execution_count": 30,
   "metadata": {
    "collapsed": false
   },
   "outputs": [],
   "source": [
    "#Dictionary with keys representing Drugbank IDs, and values representing a dictionary of ADRs.\n",
    "DBtoADR = {}\n",
    "\n",
    "#Dictionary with keys represting ADRs, and values representing the frequency of the ADRs.\n",
    "ADRtoFreq = {}\n",
    "\n",
    "for line in ADRfile:\n",
    "    line = line.rstrip('\\n')\n",
    "    cols = line.split('\\t')\n",
    "    CID = cols[0]\n",
    "    term = cols[3]\n",
    "    if term == \"PT\": #We are using the \"preferred term\" of the ADR\n",
    "        CID_num_full = CID[3:]\n",
    "        pubchem_id = int(CID_num_full) - 100000000\n",
    "        pubchem_id = str(pubchem_id)\n",
    "        if pubchem_id in PubchemToDB: #We only want the ADR info for drugs that have a Drugbank ID\n",
    "            DB = PubchemToDB[pubchem_id]\n",
    "            adr = cols[5]\n",
    "            if DB in DBtoADR: #Record the ADRs associated with each drug\n",
    "                adr_dict = DBtoADR[DB]\n",
    "                adr_dict[adr] = \"NA\"\n",
    "                DBtoADR[DB] = adr_dict\n",
    "            else:\n",
    "                DBtoADR[DB] = {}\n",
    "                DBtoADR[DB][adr] = \"NA\"\n",
    "            if adr in ADRtoFreq: #Record the ADR frequencies\n",
    "                currFreq = ADRtoFreq[adr]\n",
    "                ADRtoFreq[adr] = currFreq + 1\n",
    "            else:\n",
    "                ADRtoFreq[adr] = 1\n"
   ]
  },
  {
   "cell_type": "markdown",
   "metadata": {},
   "source": [
    "Let's look at some of the ADRs and their associated frequencies."
   ]
  },
  {
   "cell_type": "code",
   "execution_count": 31,
   "metadata": {
    "collapsed": false
   },
   "outputs": [
    {
     "data": {
      "text/html": [
       "<div>\n",
       "<table border=\"1\" class=\"dataframe\">\n",
       "  <thead>\n",
       "    <tr style=\"text-align: right;\">\n",
       "      <th></th>\n",
       "      <th>AIDS dementia complex</th>\n",
       "      <th>Abasia</th>\n",
       "      <th>Abdominal abscess</th>\n",
       "      <th>Abdominal adhesions</th>\n",
       "      <th>Abdominal discomfort</th>\n",
       "      <th>Abdominal distension</th>\n",
       "      <th>Abdominal hernia</th>\n",
       "      <th>Abdominal infection</th>\n",
       "      <th>Abdominal injury</th>\n",
       "      <th>Abdominal neoplasm</th>\n",
       "      <th>...</th>\n",
       "      <th>Xeroderma</th>\n",
       "      <th>Xerophthalmia</th>\n",
       "      <th>Xerosis</th>\n",
       "      <th>Yawning</th>\n",
       "      <th>Yellow nail syndrome</th>\n",
       "      <th>Yellow skin</th>\n",
       "      <th>Zinc deficiency</th>\n",
       "      <th>Zygomycosis</th>\n",
       "      <th>pH urine decreased</th>\n",
       "      <th>pH urine increased</th>\n",
       "    </tr>\n",
       "  </thead>\n",
       "  <tbody>\n",
       "    <tr>\n",
       "      <th>0</th>\n",
       "      <td>1</td>\n",
       "      <td>2</td>\n",
       "      <td>2</td>\n",
       "      <td>1</td>\n",
       "      <td>303</td>\n",
       "      <td>307</td>\n",
       "      <td>1</td>\n",
       "      <td>1</td>\n",
       "      <td>1</td>\n",
       "      <td>2</td>\n",
       "      <td>...</td>\n",
       "      <td>8</td>\n",
       "      <td>26</td>\n",
       "      <td>6</td>\n",
       "      <td>43</td>\n",
       "      <td>1</td>\n",
       "      <td>3</td>\n",
       "      <td>1</td>\n",
       "      <td>2</td>\n",
       "      <td>1</td>\n",
       "      <td>1</td>\n",
       "    </tr>\n",
       "  </tbody>\n",
       "</table>\n",
       "<p>1 rows × 4033 columns</p>\n",
       "</div>"
      ],
      "text/plain": [
       "   AIDS dementia complex  Abasia  Abdominal abscess  Abdominal adhesions  \\\n",
       "0                      1       2                  2                    1   \n",
       "\n",
       "   Abdominal discomfort  Abdominal distension  Abdominal hernia  \\\n",
       "0                   303                   307                 1   \n",
       "\n",
       "   Abdominal infection  Abdominal injury  Abdominal neoplasm  \\\n",
       "0                    1                 1                   2   \n",
       "\n",
       "          ...          Xeroderma  Xerophthalmia  Xerosis  Yawning  \\\n",
       "0         ...                  8             26        6       43   \n",
       "\n",
       "   Yellow nail syndrome  Yellow skin  Zinc deficiency  Zygomycosis  \\\n",
       "0                     1            3                1            2   \n",
       "\n",
       "   pH urine decreased  pH urine increased  \n",
       "0                   1                   1  \n",
       "\n",
       "[1 rows x 4033 columns]"
      ]
     },
     "execution_count": 31,
     "metadata": {},
     "output_type": "execute_result"
    }
   ],
   "source": [
    "#Convert ADRtoFreq dictionary to a data frame\n",
    "ADRtoFreq_list = [] \n",
    "ADRtoFreq_list.append(ADRtoFreq)\n",
    "ADRtoFreq_df = pd.DataFrame(ADRtoFreq_list)\n",
    "\n",
    "ADRtoFreq_df.head()"
   ]
  },
  {
   "cell_type": "markdown",
   "metadata": {},
   "source": [
    "We have 4033 ADRs in total, and the frequencies we recorded seem to match what we would expect based on intuition.\n",
    "\n",
    "Now let's obtain our features for the model.  The features we use will be Gene Ontology, or GO terms associated with the targets, enzymes, carriers, or transporters of the drugs.  GO terms are essentially standardized terms that describe gene functions.  They can represent molecular function, cellular components, and biological processes.  \n",
    "\n",
    "In order to incorporate GO term features into our model, we will need to get the GO terms associated for all of target, enzyme, carrier, or transporter genes of the drugs. Most of these are human genes, but some are genes from other species; to get the most feature information, we will consider genes from these other species as well.  We will also record the frequency of the GO terms, similar to what we did for the ADRs."
   ]
  },
  {
   "cell_type": "code",
   "execution_count": 32,
   "metadata": {
    "collapsed": false
   },
   "outputs": [
    {
     "data": {
      "text/html": [
       "<div>\n",
       "<table border=\"1\" class=\"dataframe\">\n",
       "  <thead>\n",
       "    <tr style=\"text-align: right;\">\n",
       "      <th></th>\n",
       "      <th>'de novo' AMP biosynthetic process</th>\n",
       "      <th>'de novo' CTP biosynthetic process</th>\n",
       "      <th>'de novo' GDP-L-fucose biosynthetic process</th>\n",
       "      <th>'de novo' IMP biosynthetic process</th>\n",
       "      <th>'de novo' L-methionine biosynthetic process</th>\n",
       "      <th>'de novo' UMP biosynthetic process</th>\n",
       "      <th>'de novo' protein folding</th>\n",
       "      <th>'de novo' pyrimidine base biosynthetic process</th>\n",
       "      <th>(R)-2-hydroxyglutarate dehydrogenase activity</th>\n",
       "      <th>(R)-limonene 6-monooxygenase activity</th>\n",
       "      <th>...</th>\n",
       "      <th>xyloglucan 1,6-alpha-xylosidase activity</th>\n",
       "      <th>xylulose biosynthetic process</th>\n",
       "      <th>xylulose metabolic process</th>\n",
       "      <th>zinc ion binding</th>\n",
       "      <th>zinc ion homeostasis</th>\n",
       "      <th>zinc ion transport</th>\n",
       "      <th>zonula adherens</th>\n",
       "      <th>zygotic specification of dorsal/ventral axis</th>\n",
       "      <th>zymogen activation</th>\n",
       "      <th>zymogen granule membrane</th>\n",
       "    </tr>\n",
       "  </thead>\n",
       "  <tbody>\n",
       "    <tr>\n",
       "      <th>0</th>\n",
       "      <td>20</td>\n",
       "      <td>2</td>\n",
       "      <td>1</td>\n",
       "      <td>27</td>\n",
       "      <td>5</td>\n",
       "      <td>5</td>\n",
       "      <td>17</td>\n",
       "      <td>33</td>\n",
       "      <td>5</td>\n",
       "      <td>371</td>\n",
       "      <td>...</td>\n",
       "      <td>4</td>\n",
       "      <td>1</td>\n",
       "      <td>3</td>\n",
       "      <td>2320</td>\n",
       "      <td>5</td>\n",
       "      <td>5</td>\n",
       "      <td>4</td>\n",
       "      <td>1</td>\n",
       "      <td>56</td>\n",
       "      <td>1</td>\n",
       "    </tr>\n",
       "  </tbody>\n",
       "</table>\n",
       "<p>1 rows × 9460 columns</p>\n",
       "</div>"
      ],
      "text/plain": [
       "   'de novo' AMP biosynthetic process  'de novo' CTP biosynthetic process  \\\n",
       "0                                  20                                   2   \n",
       "\n",
       "   'de novo' GDP-L-fucose biosynthetic process  \\\n",
       "0                                            1   \n",
       "\n",
       "   'de novo' IMP biosynthetic process  \\\n",
       "0                                  27   \n",
       "\n",
       "   'de novo' L-methionine biosynthetic process  \\\n",
       "0                                            5   \n",
       "\n",
       "   'de novo' UMP biosynthetic process  'de novo' protein folding  \\\n",
       "0                                   5                         17   \n",
       "\n",
       "   'de novo' pyrimidine base biosynthetic process  \\\n",
       "0                                              33   \n",
       "\n",
       "   (R)-2-hydroxyglutarate dehydrogenase activity  \\\n",
       "0                                              5   \n",
       "\n",
       "   (R)-limonene 6-monooxygenase activity            ...             \\\n",
       "0                                    371            ...              \n",
       "\n",
       "   xyloglucan 1,6-alpha-xylosidase activity  xylulose biosynthetic process  \\\n",
       "0                                         4                              1   \n",
       "\n",
       "   xylulose metabolic process  zinc ion binding  zinc ion homeostasis  \\\n",
       "0                           3              2320                     5   \n",
       "\n",
       "   zinc ion transport  zonula adherens  \\\n",
       "0                   5                4   \n",
       "\n",
       "   zygotic specification of dorsal/ventral axis  zymogen activation  \\\n",
       "0                                             1                  56   \n",
       "\n",
       "   zymogen granule membrane  \n",
       "0                         1  \n",
       "\n",
       "[1 rows x 9460 columns]"
      ]
     },
     "execution_count": 32,
     "metadata": {},
     "output_type": "execute_result"
    }
   ],
   "source": [
    "#Combined target, enzyme, carrier, and transporter gene file from DrugBank. This file contain the genes associated with each drug.\n",
    "drugFile = open(currDir + 'drug_allTypes.csv', 'r')\n",
    "\n",
    "#File to convert the GO term number to its actual name (the GO terms are represented in their numerical form in the input files)\n",
    "GOtermIDfile = open(currDir + 'GO.terms_alt_ids', 'r')\n",
    "\n",
    "#Files containing the GO terms associated with all genes in a species\n",
    "humanFile = currDir + 'goa_human.gaf'\n",
    "ecoliFile = currDir + 'gene_association.ecocyc'\n",
    "yeastFile = currDir + 'gene_association.yeast'\n",
    "leishmaniaFile = currDir + 'gene_association.GeneDB_Lmajor'\n",
    "plasmodiumFile = currDir + 'gene_association.GeneDB_Pfalciparum'\n",
    "trypanosomaFile = currDir + 'gene_association.GeneDB_Tbrucei'\n",
    "agrobacteriumFile = currDir + 'gene_association.PAMGO_Atumefaciens'\n",
    "aspergillusFile = currDir + 'gene_association.aspgd'\n",
    "pseudomonasFile = currDir + 'gene_association.pseudocap'\n",
    "celegansFile = currDir + 'gene_association.wb'\n",
    "mouseFile = currDir + 'gene_association.mgi'\n",
    "cowFile = currDir + 'goa_cow.gaf'\n",
    "ratFile = currDir + 'gene_association.rgd'\n",
    "\n",
    "#Dictionary with keys representing species, and values representing GO term file associated with that species\n",
    "speciesList = {}\n",
    "speciesList['Human'] = humanFile\n",
    "speciesList['sapiens'] = humanFile\n",
    "speciesList['Escherichia'] = ecoliFile\n",
    "speciesList['Yeast'] = yeastFile\n",
    "speciesList[\"Baker's yeast\"] = yeastFile\n",
    "speciesList['Leishmania'] = leishmaniaFile\n",
    "speciesList['Plasmodium'] = plasmodiumFile\n",
    "speciesList['Trypanosoma'] = trypanosomaFile\n",
    "speciesList['Agrobacterium'] = agrobacteriumFile\n",
    "speciesList['Aspergillus'] = aspergillusFile\n",
    "speciesList['Pseudomonas'] = pseudomonasFile\n",
    "speciesList['elegans'] = celegansFile\n",
    "speciesList['Mouse'] = mouseFile\n",
    "speciesList['taurus'] = cowFile\n",
    "speciesList['Rat'] = ratFile\n",
    "\n",
    "#Dictionary with keys representing Drugbank IDs, and values representing a dictionary of GO terms associated with those drugs.\n",
    "DBtoGOterms = {}\n",
    "\n",
    "#Dictionary with keys represting GOterms, and values representing the frequency of those GO terms.\n",
    "GOtermToFreq = {}\n",
    "\n",
    "#Species to Gene Name to GO terms (all dictionaries).  This is needed in ordered to obtain the GOterms for each Drugbank ID.\n",
    "speciesGeneGOterms = {}\n",
    "\n",
    "#Dictionary with keys representing GO terms, and values representing the actual labels of those GO terms.\n",
    "GOtermToID = {}\n",
    "\n",
    "#Obtain the name/identification for each GO term\n",
    "for line in GOtermIDfile:\n",
    "    line = line.rstrip('\\n')\n",
    "    cols = line.split('\\t')\n",
    "    firstChar = line[0]\n",
    "    if firstChar != \"!\":\n",
    "        primTerm = cols[0]\n",
    "        secTerm = cols[1]\n",
    "        ID = cols[2]\n",
    "        GOtermToID[primTerm] = ID\n",
    "\n",
    "#Get all GOterms associated with all genes from a species. Returns a gene -> GO terms dictionary. \n",
    "def ParseSpeciesFile(speciesName):\n",
    "    speciesFile = speciesList[speciesName]\n",
    "    f = open(speciesFile, 'r')\n",
    "    geneToGOterms = {}\n",
    "    for line in f:\n",
    "        line = line.rstrip('\\n')\n",
    "        cols = line.split('\\t')\n",
    "        if cols[0][0] != '!':\n",
    "            gene = cols[2]\n",
    "            GOterm = cols[4]\n",
    "            if GOterm in GOtermToID: #Make sure GO term has an identifiable name\n",
    "                ID = GOtermToID[GOterm]\n",
    "                possibleNot = cols[3]\n",
    "                if possibleNot != 'NOT':\n",
    "                    GOdict = {} #Record the GO term names into this 'GOdict' dictionary\n",
    "                    if gene in geneToGOterms: #See if the GO terms for this gene have already been recorded\n",
    "                        GOdict = geneToGOterms[gene]\n",
    "                    GOdict[ID] = 'NA' #Add new GO term\n",
    "                    geneToGOterms[gene] = GOdict #Store updated GO term dictionary into the \"geneToGOterms\" dictionary\n",
    "    return geneToGOterms\n",
    "\n",
    "#Get the GO terms associated with a specific gene from a particular species.  Returns a dictionary of GO terms.\n",
    "def GetGOterms(speciesName, gene):\n",
    "    geneToGOterms = speciesGeneGOterms[speciesName]\n",
    "    currGOterms = {}\n",
    "    for posGene in geneToGOterms:\n",
    "        if gene == posGene:\n",
    "            currGOterms = geneToGOterms[gene]\n",
    "            break\n",
    "    return currGOterms\n",
    "\n",
    "#For each species, obtain all genes and associated GO terms\n",
    "for species in speciesList:\n",
    "    speciesGeneGOterms[species] = ParseSpeciesFile(species)\n",
    "\n",
    "#Get the GO terms associated with each drug\n",
    "for line in drugFile:\n",
    "    line = line.rstrip('\\n')\n",
    "    cols = line.split(',')\n",
    "    if cols[0] != 'ID':\n",
    "        currGene = cols[2] #A target, enzyme, carrier, or transporter\n",
    "        species = cols[11] #Species associated with the gene\n",
    "        drugs = cols[12] #Drugs associated with the gene, separated by semi-colons\n",
    "        #Determine actual species (nomenclature can be inconsistent in this file)\n",
    "        checkSpecies = ''\n",
    "        speciesSplit = species.split(' ')\n",
    "        for term in speciesSplit:\n",
    "            if term in speciesList:\n",
    "                checkSpecies = term\n",
    "        currSpecies = ''\n",
    "        if species in speciesList:\n",
    "            currSpecies = species\n",
    "        elif checkSpecies != '':\n",
    "            currSpecies = checkSpecies\n",
    "        if currSpecies != '': #Only proceed if we have properly identified the species\n",
    "            GOtermDict = GetGOterms(currSpecies, currGene) #Get the GO terms associated with this species and gene\n",
    "            drugsSplit = drugs.split(';') #Turn drug info into a list\n",
    "            for d in drugsSplit:\n",
    "                d = d.strip()\n",
    "                #Record the GO terms associated with these drugs\n",
    "                if d in DBtoGOterms: #Check if drug is already in DBtoGOterms dictionary\n",
    "                    currDict = DBtoGOterms[d]\n",
    "                    for GOterm in GOtermDict: #Add new GO terms\n",
    "                        currDict[GOterm] = 'NA'\n",
    "                    DBtoGOterms[d] = currDict\n",
    "                else:\n",
    "                    DBtoGOterms[d] = GOtermDict\n",
    "                #Record frequency of GO terms\n",
    "                for GOterm in GOtermDict:\n",
    "                    if GOterm in GOtermToFreq:\n",
    "                        currFreq = GOtermToFreq[GOterm]\n",
    "                        GOtermToFreq[GOterm] = currFreq + 1\n",
    "                    else:\n",
    "                        GOtermToFreq[GOterm] = 1\n",
    "\n",
    "#Examine frequency of GO terms\n",
    "#Convert GOtermToFreq dictionary to a data frame\n",
    "GOtermToFreq_list = [] \n",
    "GOtermToFreq_list.append(GOtermToFreq)\n",
    "GOtermToFreq_df = pd.DataFrame(GOtermToFreq_list)\n",
    "\n",
    "GOtermToFreq_df.head()\n"
   ]
  },
  {
   "cell_type": "markdown",
   "metadata": {},
   "source": [
    "We recorded 9460 GO term features in total.  Now that we have the ADRs for each drug, and the GO terms for each drug, let's connect the information together.  We will first determine the drugs that have both ADR and GO term features, and store this in a list.  We will also make a revised list of features, as some of the features we originally recorded may not be associated with the drugs for which we have ADR info; this list of features is what we will use in our eventual model."
   ]
  },
  {
   "cell_type": "code",
   "execution_count": 33,
   "metadata": {
    "collapsed": false
   },
   "outputs": [
    {
     "name": "stdout",
     "output_type": "stream",
     "text": [
      "Number of drugs: 966\n",
      "Number of features: 7963\n"
     ]
    }
   ],
   "source": [
    "#List containing drugs with ADR info and with GO term features.\n",
    "overlappedDrugs = []\n",
    "\n",
    "#List containing GO term features of drugs that also have ADR info. \n",
    "relevantFeatures = []\n",
    "\n",
    "#Obtain list of drugs and features to use in the model\n",
    "for drug in DBtoADR:\n",
    "    if drug in DBtoGOterms:\n",
    "        overlappedDrugs.append(drug)\n",
    "        features = DBtoGOterms[drug]\n",
    "        for GOterm in features:\n",
    "            if GOterm not in relevantFeatures:\n",
    "                relevantFeatures.append(GOterm)\n",
    "                \n",
    "print('Number of drugs: ' + str(len(overlappedDrugs)))\n",
    "print('Number of features: ' + str(len(relevantFeatures)))\n",
    "                "
   ]
  },
  {
   "cell_type": "markdown",
   "metadata": {},
   "source": [
    "Our model will contain 966 samples and 7963 features.  Now we'll look into predicting a specific ADR.  I thought \"tremor\" would be a good one to predict, as it can be a symptom of disease as well, most notably for Parkinson's.  As stated earlier, if we look into the feature importances of the model, we may find new proteins or pathways involved in this ADR.  To help informally assess the accuracy of the model, we can also determine whether some of these important features are ones that we would expect, based on what we already know about how tremors happen.\n",
    "\n",
    "Let's first look at what proportion of drugs have \"tremor\" as an ADR.  "
   ]
  },
  {
   "cell_type": "code",
   "execution_count": 34,
   "metadata": {
    "collapsed": false
   },
   "outputs": [
    {
     "name": "stdout",
     "output_type": "stream",
     "text": [
      "Fraction of drugs with a tremor ADR: 0.48\n"
     ]
    }
   ],
   "source": [
    "tremorFreq = ADRtoFreq['Tremor']\n",
    "numDrugs = len(overlappedDrugs)\n",
    "\n",
    "tremorFraction = int(tremorFreq)/int(numDrugs)\n",
    "\n",
    "print('Fraction of drugs with a tremor ADR: %0.2f'% tremorFraction)\n"
   ]
  },
  {
   "cell_type": "markdown",
   "metadata": {},
   "source": [
    "We see almost half the drugs have tremor as a side effect.  This is good, as it means our data for the model will be fairly balanced.\n",
    "\n",
    "Now let's prepare our data for our machine learning algorithm. To make things simple, our features will be binary; in other words, we will code them as a 1 or 0 depending on whether that drug has that particular feature.  We will make a data frame in which the rows consist of the drugs, and the columns represent features.  Similarly, our labels for whether a drug has a certain ADR will be binary; 1 means the drug has that ADR, 0 means the drug does not have it.  We will generate a list containing this information; the length of the list will be the number of drugs, and the ordering will be the same as that for the data frame of feature information."
   ]
  },
  {
   "cell_type": "code",
   "execution_count": 35,
   "metadata": {
    "collapsed": true
   },
   "outputs": [],
   "source": [
    "#The ADR we are trying to predict\n",
    "se = \"Tremor\"\n",
    "\n",
    "#List of labels - which drugs have the ADR, and which don't?\n",
    "y_list = []\n",
    "\n",
    "#List of list containing feature information for each drug.  This will then be converted to a data frame.\n",
    "x_listOflist = []\n",
    "\n",
    "for drug in overlappedDrugs:\n",
    "    ADRs = DBtoADR[drug] #Get dictionary of ADRs associated with this drug that we generated earlier\n",
    "    se_status = 0 #First, assume drug does not have this ADR\n",
    "    if se in ADRs: #If drug is in ADR, then we'll record this as a \"1\"\n",
    "        se_status = 1 \n",
    "    y_list.append(se_status) #Add the \"status\" of this ADR to the label list\n",
    "    features = DBtoGOterms[drug] #Get dictionary of features associated with this drug that we generated earlier\n",
    "    featureList = []\n",
    "    for feature in relevantFeatures: #For each feature, determine whether the drug in question is associated with that feature.\n",
    "        if feature in features:\n",
    "            featureList.append(1)\n",
    "        else:\n",
    "            featureList.append(0)\n",
    "    x_listOflist.append(featureList) #Append this list to our main feature info list\n",
    "\n",
    "#Convert list of list to data frame\n",
    "x_df = pd.DataFrame(x_listOflist)\n"
   ]
  },
  {
   "cell_type": "markdown",
   "metadata": {},
   "source": [
    "Ok, now we're ready to start building our model!  I decided to use a Random Forest Classifier to predict ADRs.  Random forests are pretty easy to work with \"out of the box\" and are known to be pretty accurate classifiers.  They also allow us to easily determine feature importances, which I mentioned earlier is something we'd like to know for predicting ADRs.\n",
    "\n",
    "We will split our data randomly into a training and testing set, initalize our model with certain parameters, perform cross-validation to select values for additional parameters, and then fit our model to the training data."
   ]
  },
  {
   "cell_type": "code",
   "execution_count": 36,
   "metadata": {
    "collapsed": false
   },
   "outputs": [
    {
     "data": {
      "text/plain": [
       "GridSearchCV(cv=10, error_score='raise',\n",
       "       estimator=Pipeline(memory=None,\n",
       "     steps=[('randomforestclassifier', RandomForestClassifier(bootstrap=True, class_weight=None, criterion='gini',\n",
       "            max_depth=None, max_features='auto', max_leaf_nodes=None,\n",
       "            min_impurity_decrease=0.0, min_impurity_split=None,\n",
       "            min_samples_leaf=1, min_samples_split=2,\n",
       "            min_weight_fraction_leaf=0.0, n_estimators=100, n_jobs=1,\n",
       "            oob_score=False, random_state=2017, verbose=0,\n",
       "            warm_start=False))]),\n",
       "       fit_params=None, iid=True, n_jobs=1,\n",
       "       param_grid={'randomforestclassifier__min_samples_leaf': [1, 5, 10], 'randomforestclassifier__max_depth': [None, 1, 3, 5], 'randomforestclassifier__max_features': ['auto', 'log2']},\n",
       "       pre_dispatch='2*n_jobs', refit=True, return_train_score=True,\n",
       "       scoring=None, verbose=0)"
      ]
     },
     "execution_count": 36,
     "metadata": {},
     "output_type": "execute_result"
    }
   ],
   "source": [
    "#Split data into training and testing data sets\n",
    "X_train, X_test, y_train, y_test = train_test_split(x_df, y_list, test_size=0.2, random_state=1)\n",
    "\n",
    "#Enter our Random Forest Classifier into a pipeline; this facilitates cross-validation.\n",
    "pipeline = make_pipeline(RandomForestClassifier(n_estimators=100, random_state=2017))\n",
    "\n",
    "#Declare hyperparameters that we want to adjust\n",
    "hyperparameters = {'randomforestclassifier__max_features' : ['auto', 'log2'],\n",
    "                  'randomforestclassifier__max_depth': [None, 1, 3, 5],\n",
    "                    'randomforestclassifier__min_samples_leaf': [1, 5, 10]}\n",
    " \n",
    "#Use cross-validation pipeline to tune hyperparameters\n",
    "clf = GridSearchCV(pipeline, hyperparameters, cv=10)\n",
    "\n",
    "#Fit our model\n",
    "clf.fit(X_train, y_train)\n"
   ]
  },
  {
   "cell_type": "markdown",
   "metadata": {},
   "source": [
    "Now let's evaluate our model.  We'll determine the overall accuracy of the model, and also generate the confusion matrix, which will tell us how many drugs in each class (i.e. with or without the ADR) were predicted correctly or incorrectly in the test data.  From this, we can calculate various statistics, such as precision and recall."
   ]
  },
  {
   "cell_type": "code",
   "execution_count": 37,
   "metadata": {
    "collapsed": false
   },
   "outputs": [
    {
     "name": "stdout",
     "output_type": "stream",
     "text": [
      "Overall accuracy: 0.685567010309\n",
      "\n",
      "Confusion matrix:\n",
      "[[106  13]\n",
      " [ 48  27]]\n",
      "\n",
      "\n",
      "Additional metrics:\n",
      "             precision    recall  f1-score   support\n",
      "\n",
      "          0       0.69      0.89      0.78       119\n",
      "          1       0.68      0.36      0.47        75\n",
      "\n",
      "avg / total       0.68      0.69      0.66       194\n",
      "\n"
     ]
    }
   ],
   "source": [
    "#Determine how accurate the model is on the test data set\n",
    "score = clf.score(X_test, y_test)\n",
    "\n",
    "print('Overall accuracy: ' + str(score) + '\\n')\n",
    "\n",
    "#Predictions of the testing data\n",
    "pred = clf.predict(X_test)\n",
    "\n",
    "a = confusion_matrix(y_test, pred)\n",
    "print('Confusion matrix:')\n",
    "print(a)\n",
    "print('\\n')\n",
    "\n",
    "print('Additional metrics:')\n",
    "print(metrics.classification_report(y_test, pred))\n"
   ]
  },
  {
   "cell_type": "markdown",
   "metadata": {},
   "source": [
    "The overall accuracy, based on test data set, is around 0.68. While that's not a super high rate, at least it is over 0.5, which is what we would expect based on random chance.  The average precision, recall, and f1-score (which incorporates precision and recall) range from 0.66-0.69, with higher recall for the negative class (drug does not have the ADR) vs. the positive class (drug does have the ADR).\n",
    "\n",
    "To get a better sense of accuracy of our model, let's plot an ROC curve, and calculate the area under the curve (AUC).  The ROC curve allows us to visualize the false positive rate vs. the true positive rate at different probability thresholds.  In general, the higher our AUC is, the more accurate our model is.\n"
   ]
  },
  {
   "cell_type": "code",
   "execution_count": 38,
   "metadata": {
    "collapsed": false
   },
   "outputs": [
    {
     "data": {
      "image/png": "[encoded data removed]",
      "text/plain": [
       "<matplotlib.figure.Figure at 0x20e618bbf28>"
      ]
     },
     "metadata": {},
     "output_type": "display_data"
    }
   ],
   "source": [
    "#Predict probabilities of positive class\n",
    "y_score = clf.predict_proba(X_test)[:,1]\n",
    "\n",
    "#Calculate false positive rate and true positive rate at different probability thresholds\n",
    "false_positive_rate, true_positive_rate, _ = roc_curve(y_test, y_score)\n",
    "\n",
    "#Calculate the AUC\n",
    "roc_auc = auc(false_positive_rate, true_positive_rate)\n",
    "\n",
    "#Plot the ROC curve\n",
    "plt.title('Receiver Operating Characteristic')\n",
    "plt.plot(false_positive_rate, true_positive_rate, 'b', label='AUC = %0.2f'% roc_auc)\n",
    "plt.legend(loc='lower right')\n",
    "plt.plot([0,1],[0,1],'r--')\n",
    "plt.xlim([-0.1,1.2])\n",
    "plt.ylim([-0.1,1.2])\n",
    "plt.ylabel('True Positive Rate')\n",
    "plt.xlabel('False Positive Rate')\n",
    "plt.tick_params(\n",
    "    axis='x',          \n",
    "    top='off')        \n",
    "plt.tick_params(\n",
    "    axis='y',          \n",
    "    right='off')      \n",
    "plt.show()\n"
   ]
  },
  {
   "cell_type": "markdown",
   "metadata": {},
   "source": [
    "Our AUC is 0.67.  Again, while this isn't a super high value, we are at least doing better than random guessing (represented by the red dashed line in the ROC plot.)\n",
    "\n",
    "Now let's find the most important features of the model, and plot their scores."
   ]
  },
  {
   "cell_type": "code",
   "execution_count": 39,
   "metadata": {
    "collapsed": false
   },
   "outputs": [
    {
     "data": {
      "image/png": "[encoded data removed]",
      "text/plain": [
       "<matplotlib.figure.Figure at 0x20e003dd160>"
      ]
     },
     "metadata": {},
     "output_type": "display_data"
    }
   ],
   "source": [
    "FeatureImportanceList = []\n",
    "\n",
    "#Extract feature importances\n",
    "fi = list(zip(X_train, clf.best_estimator_.named_steps['randomforestclassifier'].feature_importances_))\n",
    "for f in fi:\n",
    "    index = f[0]\n",
    "    imp = f[1]\n",
    "    GOterm = relevantFeatures[int(index)]\n",
    "    GOterm_imp = (GOterm, imp)\n",
    "    FeatureImportanceList.append(GOterm_imp)\n",
    "\n",
    "#Sort features based on score\n",
    "sortedFeatureImportanceList = sorted(FeatureImportanceList, key=operator.itemgetter(1), reverse = True)\n",
    "\n",
    "#Examine the top 10 feature importances\n",
    "GOterms = list(zip(*sortedFeatureImportanceList[:10]))[0]\n",
    "scores = list(zip(*sortedFeatureImportanceList[:10]))[1]\n",
    "\n",
    "#Make axes labels evenly space\n",
    "ind = np.arange(len(GOterms))\n",
    "\n",
    "#Generate barplot of top 10 feature importances\n",
    "fig, ax = plt.subplots()\n",
    "ax.barh(ind,scores,0.5, align='center')\n",
    "ax.set_yticks(ind)\n",
    "ax.set_yticklabels(GOterms)\n",
    "ax.invert_yaxis()\n",
    "plt.title('Feature Importances')\n",
    "plt.xlabel('Score')\n",
    "plt.tick_params(\n",
    "    axis='x',          \n",
    "    top='off',\n",
    "    bottom='off')         \n",
    "plt.tick_params(\n",
    "    axis='y',        \n",
    "    left='off',   \n",
    "    right='off')        \n",
    "fig.set_facecolor('white')\n",
    "plt.autoscale()\n",
    "plt.show()\n"
   ]
  },
  {
   "cell_type": "markdown",
   "metadata": {},
   "source": [
    "Some of the features involve neurological processes, including \"synaptic transmission\" and \"postsynaptic membrane\".  This is a good sign; while we may not have an extremely accurate model, the fact that some of our most important features for predicting tremors represent brain-related processes makes sense.  We also observe some features that are less expected, such as \"estrogen metabolic process\" and \"(R)-limonene 6-monooxygenase activity\".  These could be investiaged further to determine whether they play a role in the underlying biology of tremors.\n",
    "\n",
    "In conclusion, we generated a Random Forest Classifier model to predict tremors as an ADR, evaluated the model, and examined the most important features of the model in predicting tremors.  The features we used were GO terms based on the targets, enzymes, transporters, and carriers of the drugs.  Though our model is better than random guessing, there is definitely room for improvement.  First, we only had information for about 1000 drugs; we could add additional drugs to our model, for which we have both ADR and feature information.  With more data, our model could potentially build a more accurate classifier.  FAERS (FDA's Adverse Event Reporting System) is an additional ADR database that could be incorporated.  In addition, we could perform feature engineering on the GO term features.  Our model contained nearly 8000 features; it is likely that a good portion of those features have very little relevance for predicting ADRs, and many of them may be correlated with each other as well.  By removing less relevant features, we may increase our ability to accurately predict ADRs."
   ]
  }
 ],
 "metadata": {
  "kernelspec": {
   "display_name": "Python 3",
   "language": "python",
   "name": "python3"
  },
  "language_info": {
   "codemirror_mode": {
    "name": "ipython",
    "version": 3
   },
   "file_extension": ".py",
   "mimetype": "text/x-python",
   "name": "python",
   "nbconvert_exporter": "python",
   "pygments_lexer": "ipython3",
   "version": "3.5.2"
  }
 },
 "nbformat": 4,
 "nbformat_minor": 1
}
